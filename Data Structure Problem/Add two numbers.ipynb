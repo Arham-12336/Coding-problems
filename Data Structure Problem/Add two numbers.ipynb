{
 "cells": [
  {
   "cell_type": "markdown",
   "id": "e72c125c",
   "metadata": {},
   "source": [
    "# Sum of two numbers"
   ]
  },
  {
   "cell_type": "code",
   "execution_count": 1,
   "id": "cd29ddb6",
   "metadata": {},
   "outputs": [],
   "source": [
    "def add_two(a,b):\n",
    "    return a+b"
   ]
  },
  {
   "cell_type": "code",
   "execution_count": null,
   "id": "17be0d03",
   "metadata": {},
   "outputs": [],
   "source": [
    "add_two()"
   ]
  }
 ],
 "metadata": {
  "kernelspec": {
   "display_name": "Python 3 (ipykernel)",
   "language": "python",
   "name": "python3"
  },
  "language_info": {
   "codemirror_mode": {
    "name": "ipython",
    "version": 3
   },
   "file_extension": ".py",
   "mimetype": "text/x-python",
   "name": "python",
   "nbconvert_exporter": "python",
   "pygments_lexer": "ipython3",
   "version": "3.9.7"
  }
 },
 "nbformat": 4,
 "nbformat_minor": 5
}
