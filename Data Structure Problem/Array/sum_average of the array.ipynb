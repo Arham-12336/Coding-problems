{
 "cells": [
  {
   "cell_type": "markdown",
   "id": "d73a64f0",
   "metadata": {},
   "source": [
    "# Sum of the array"
   ]
  },
  {
   "cell_type": "markdown",
   "id": "ac822206",
   "metadata": {},
   "source": [
    "sum the number in the given array[1,9,2,4,7,6]"
   ]
  },
  {
   "cell_type": "code",
   "execution_count": 6,
   "id": "cbf6555a",
   "metadata": {},
   "outputs": [
    {
     "name": "stdout",
     "output_type": "stream",
     "text": [
      "SUM OF THE ARRAY: 29\n"
     ]
    }
   ],
   "source": [
    "def array_sum(arr):\n",
    "    total =0\n",
    "    for num in arr:\n",
    "        total += num\n",
    "    return total\n",
    "#Driver code\n",
    "array =[1,9,2,4,7,6]\n",
    "print(\"SUM OF THE ARRAY:\",array_sum(array))"
   ]
  },
  {
   "cell_type": "markdown",
   "id": "9ce3038f",
   "metadata": {},
   "source": [
    "# Average of the array"
   ]
  },
  {
   "cell_type": "markdown",
   "id": "5ca9c36b",
   "metadata": {},
   "source": [
    "Average  the number in the given array[1,9,2,4,7,6]"
   ]
  },
  {
   "cell_type": "code",
   "execution_count": 5,
   "id": "a51bc0bb",
   "metadata": {},
   "outputs": [
    {
     "name": "stdout",
     "output_type": "stream",
     "text": [
      "The average is: 4.833333333333333\n"
     ]
    }
   ],
   "source": [
    "def average(list):\n",
    "    average = sum(list) / len(list)\n",
    "    return average\n",
    "#Driver code\n",
    "list =[1,9,2,4,7,6]\n",
    "print(\"The average is:\", average(list))\n"
   ]
  },
  {
   "cell_type": "code",
   "execution_count": null,
   "id": "ac6209d5",
   "metadata": {},
   "outputs": [],
   "source": []
  }
 ],
 "metadata": {
  "kernelspec": {
   "display_name": "Python 3 (ipykernel)",
   "language": "python",
   "name": "python3"
  },
  "language_info": {
   "codemirror_mode": {
    "name": "ipython",
    "version": 3
   },
   "file_extension": ".py",
   "mimetype": "text/x-python",
   "name": "python",
   "nbconvert_exporter": "python",
   "pygments_lexer": "ipython3",
   "version": "3.9.7"
  }
 },
 "nbformat": 4,
 "nbformat_minor": 5
}
