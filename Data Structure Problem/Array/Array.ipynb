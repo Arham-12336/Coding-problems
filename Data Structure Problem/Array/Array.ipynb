{
 "cells": [
  {
   "cell_type": "markdown",
   "id": "cc31af1e",
   "metadata": {},
   "source": [
    "# Array Data Structures"
   ]
  },
  {
   "cell_type": "markdown",
   "id": "c8fc8283",
   "metadata": {},
   "source": [
    "Let us say your expense for every month are listed below,\n",
    "January - 2200\n",
    "February - 2350\n",
    "March - 2600\n",
    "April - 2130\n",
    "May - 2190\n",
    "Create a list to store these monthly expenses and using that find out,"
   ]
  },
  {
   "cell_type": "markdown",
   "id": "7641bb77",
   "metadata": {},
   "source": [
    "1. In Feb, how many dollars you spent extra compare to January?"
   ]
  },
  {
   "cell_type": "code",
   "execution_count": 56,
   "id": "7b7e5f87",
   "metadata": {},
   "outputs": [
    {
     "name": "stdout",
     "output_type": "stream",
     "text": [
      "In feb how many dollars you spent extra compare to january: 150\n"
     ]
    }
   ],
   "source": [
    "exp = [2200,2350,2600,2130,2190]\n",
    "print(\"In feb how many dollars you spent extra compare to january:\" ,exp[1]-exp[0]) #150"
   ]
  },
  {
   "cell_type": "markdown",
   "id": "7b0e6f9c",
   "metadata": {},
   "source": [
    "2. Find out your total expense in first quarter (first three months) of the year."
   ]
  },
  {
   "cell_type": "code",
   "execution_count": 57,
   "id": "c2abd0d9",
   "metadata": {},
   "outputs": [
    {
     "name": "stdout",
     "output_type": "stream",
     "text": [
      "Total expense in first three months of the year: 7150\n"
     ]
    }
   ],
   "source": [
    "print(\"Total expense in first three months of the year:\" ,exp[0]+exp[1]+exp[2]) #7150"
   ]
  },
  {
   "cell_type": "markdown",
   "id": "e67323bd",
   "metadata": {},
   "source": [
    "3. Find out if you spent exactly 2000 dollars in any month"
   ]
  },
  {
   "cell_type": "code",
   "execution_count": 60,
   "id": "194e3971",
   "metadata": {},
   "outputs": [
    {
     "name": "stdout",
     "output_type": "stream",
     "text": [
      "If you spent exactly 2000 dollars in any month: False\n"
     ]
    }
   ],
   "source": [
    "print(\"If you spent exactly 2000 dollars in any month:\", 2000 in exp) #No"
   ]
  },
  {
   "cell_type": "markdown",
   "id": "4b9c0730",
   "metadata": {},
   "source": [
    "4. June month just finished and your expense is 1980 dollar. Add this item to our monthly expense list"
   ]
  },
  {
   "cell_type": "code",
   "execution_count": 63,
   "id": "8426d6ac",
   "metadata": {},
   "outputs": [
    {
     "name": "stdout",
     "output_type": "stream",
     "text": [
      "June month is finished your expense is 1980 dollar add this item to monthly expense list: [2200, 2350, 2600, 2130, 2190, 1980]\n"
     ]
    }
   ],
   "source": [
    "exp.append(1980)\n",
    "print(\"June month is finished your expense is 1980 dollar add this item to monthly expense list:\",exp) #[2200,2350,2600,2130,2190]"
   ]
  },
  {
   "cell_type": "markdown",
   "id": "58b46127",
   "metadata": {},
   "source": [
    "5. You returned an item that you bought in a month of April and got a refund of 200$. Make a correction to your monthly expense list based on this"
   ]
  },
  {
   "cell_type": "code",
   "execution_count": 65,
   "id": "0661c8c6",
   "metadata": {},
   "outputs": [
    {
     "name": "stdout",
     "output_type": "stream",
     "text": [
      "You returned an item that you bought in a month of April and got refund of 200$: 1930\n"
     ]
    }
   ],
   "source": [
    "print(\"You returned an item that you bought in a month of April and got refund of 200$:\",exp[3]-200)"
   ]
  },
  {
   "cell_type": "markdown",
   "id": "11cf57c0",
   "metadata": {},
   "source": [
    "You have a list of your favourite marvel super heros.\n",
    "heros=['spider man','thor','hulk','iron man','captain america']"
   ]
  },
  {
   "cell_type": "markdown",
   "id": "8bd33db4",
   "metadata": {},
   "source": [
    "1. Length of the list"
   ]
  },
  {
   "cell_type": "code",
   "execution_count": 77,
   "id": "7c2763e9",
   "metadata": {},
   "outputs": [
    {
     "name": "stdout",
     "output_type": "stream",
     "text": [
      "5\n"
     ]
    }
   ],
   "source": [
    "heros=['spider man','thor','hulk','iron man','captain america']\n",
    "print(len(heros))"
   ]
  },
  {
   "cell_type": "markdown",
   "id": "7d6abd76",
   "metadata": {},
   "source": [
    "2. Add 'black panther' at the end of this list"
   ]
  },
  {
   "cell_type": "code",
   "execution_count": 81,
   "id": "7a807ac1",
   "metadata": {},
   "outputs": [
    {
     "name": "stdout",
     "output_type": "stream",
     "text": [
      "['spider man', 'thor', 'hulk', 'iron man', 'captain america', 'black panther']\n"
     ]
    }
   ],
   "source": [
    "heros.append('black panther')\n",
    "print(heros)"
   ]
  },
  {
   "cell_type": "markdown",
   "id": "1e90db4c",
   "metadata": {},
   "source": [
    "You realize that you need to add 'black panther' after 'hulk',\n",
    "   so remove it from the list first and then add it after 'hulk'"
   ]
  },
  {
   "cell_type": "code",
   "execution_count": 82,
   "id": "3c2feebf",
   "metadata": {},
   "outputs": [
    {
     "name": "stdout",
     "output_type": "stream",
     "text": [
      "['spider man', 'thor', 'hulk', 'black panther', 'iron man', 'captain america']\n"
     ]
    }
   ],
   "source": [
    "heros.remove('black panther')\n",
    "heros.insert(3, 'black panther')\n",
    "print(heros)"
   ]
  },
  {
   "cell_type": "markdown",
   "id": "a957c30d",
   "metadata": {},
   "source": [
    "4. Now you don't like thor and hulk because they get angry easily :)\n",
    "   So you want to remove thor and hulk from list and replace them with doctor strange (because he is cool).\n",
    "   Do that with one line of code."
   ]
  },
  {
   "cell_type": "code",
   "execution_count": 90,
   "id": "d12884f8",
   "metadata": {},
   "outputs": [
    {
     "name": "stdout",
     "output_type": "stream",
     "text": [
      "['spider man', 'doctor strange', 'thor', 'hulk', 'iron man', 'captain america']\n"
     ]
    }
   ],
   "source": [
    "heros=['spider man','thor','hulk','iron man','captain america']\n",
    "#remove 'thor' and \"hulk\" in the list\n",
    "heros.insert(1, 'doctor strange')\n",
    "print(heros)"
   ]
  },
  {
   "cell_type": "markdown",
   "id": "3bd4e725",
   "metadata": {},
   "source": [
    "5. Sort the heros list in alphabetical order (Hint. Use dir() functions to list down all functions available in list)\n"
   ]
  },
  {
   "cell_type": "code",
   "execution_count": 91,
   "id": "bf75da50",
   "metadata": {},
   "outputs": [
    {
     "name": "stdout",
     "output_type": "stream",
     "text": [
      "sorted: ['captain america', 'hulk', 'iron man', 'spider man', 'thor']\n"
     ]
    }
   ],
   "source": [
    "#heros list\n",
    "heros =['spider man','thor','hulk','iron man','captain america']\n",
    "#sort the heros\n",
    "heros.sort()\n",
    "#print heros\n",
    "print('sorted:',heros)"
   ]
  },
  {
   "cell_type": "code",
   "execution_count": null,
   "id": "04fa3fb4",
   "metadata": {},
   "outputs": [],
   "source": []
  }
 ],
 "metadata": {
  "kernelspec": {
   "display_name": "Python 3 (ipykernel)",
   "language": "python",
   "name": "python3"
  },
  "language_info": {
   "codemirror_mode": {
    "name": "ipython",
    "version": 3
   },
   "file_extension": ".py",
   "mimetype": "text/x-python",
   "name": "python",
   "nbconvert_exporter": "python",
   "pygments_lexer": "ipython3",
   "version": "3.9.7"
  }
 },
 "nbformat": 4,
 "nbformat_minor": 5
}
