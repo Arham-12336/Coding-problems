{
 "cells": [
  {
   "cell_type": "markdown",
   "id": "aec19c22",
   "metadata": {},
   "source": [
    "# "
   ]
  },
  {
   "cell_type": "markdown",
   "id": "2c1dea58",
   "metadata": {},
   "source": [
    "# Array"
   ]
  },
  {
   "cell_type": "markdown",
   "id": "b31b839b",
   "metadata": {},
   "source": [
    "Find the max number in the given array[1,9,2,4,7,6]"
   ]
  },
  {
   "cell_type": "code",
   "execution_count": 15,
   "id": "60d83bb4",
   "metadata": {},
   "outputs": [
    {
     "name": "stdout",
     "output_type": "stream",
     "text": [
      "Maximum in given array 9\n"
     ]
    }
   ],
   "source": [
    "def max(arr, n):\n",
    "    max = arr[0] \n",
    "    for i in range(1, n):\n",
    "        if arr[i] > max:\n",
    "            max = arr[i]\n",
    "    return max\n",
    "# Driver code\n",
    "arr = [1,9,2,4,7,6]\n",
    "n = len(arr)\n",
    "Ans = max(arr, n)\n",
    "print(\"Maximum in given array\" , Ans)\n"
   ]
  },
  {
   "cell_type": "markdown",
   "id": "b43c17d3",
   "metadata": {},
   "source": [
    "Find the minimum number in the given array[1,9,2,4,7,6]"
   ]
  },
  {
   "cell_type": "code",
   "execution_count": 22,
   "id": "2bc0faab",
   "metadata": {},
   "outputs": [
    {
     "name": "stdout",
     "output_type": "stream",
     "text": [
      "Minimum in given array 1\n"
     ]
    }
   ],
   "source": [
    "def min(arr, n):\n",
    "    min = arr[0] \n",
    "    for i in range(1, n):\n",
    "        if arr[i] < min:\n",
    "            min = arr[i]\n",
    "    return min\n",
    "# Driver code\n",
    "arr = [1,9,2,4,7,6]\n",
    "n = len(arr)\n",
    "Ans = min(arr, n)\n",
    "print(\"Minimum in given array\" , Ans)"
   ]
  },
  {
   "cell_type": "markdown",
   "id": "9027dc03",
   "metadata": {},
   "source": [
    "# Sorting"
   ]
  },
  {
   "cell_type": "code",
   "execution_count": 20,
   "id": "2e157140",
   "metadata": {},
   "outputs": [
    {
     "name": "stdout",
     "output_type": "stream",
     "text": [
      "Maximum value: 9\n"
     ]
    }
   ],
   "source": [
    "def find_maximum_value(numbers):\n",
    "    # Sort the list in ascending order\n",
    "    numbers.sort()\n",
    "\n",
    "    # The maximum value is the last element in the sorted list\n",
    "    maximum_value = numbers[-1]\n",
    "    \n",
    "    return maximum_value\n",
    "\n",
    "# Driver code\n",
    "numbers = [1,9,2,4,7,6]\n",
    "maximum = find_maximum_value(numbers)\n",
    "print(\"Maximum value:\", maximum)"
   ]
  },
  {
   "cell_type": "code",
   "execution_count": 21,
   "id": "cec1602c",
   "metadata": {},
   "outputs": [
    {
     "name": "stdout",
     "output_type": "stream",
     "text": [
      "Minimum value: 1\n"
     ]
    }
   ],
   "source": [
    "def find_minimum_value(numbers):\n",
    "    #sort the list in ascending orer\n",
    "    numbers.sort()\n",
    "    \n",
    "    #the minimum value is the first element in the sorted list \n",
    "    minimum_value = numbers[0]\n",
    "    \n",
    "    return minimum_value\n",
    "\n",
    "#Driver code\n",
    "numbers = [1,9,2,4,7,6]\n",
    "minimum = find_minimum_value(numbers)\n",
    "print(\"Minimum value:\", minimum)"
   ]
  }
 ],
 "metadata": {
  "kernelspec": {
   "display_name": "Python 3 (ipykernel)",
   "language": "python",
   "name": "python3"
  },
  "language_info": {
   "codemirror_mode": {
    "name": "ipython",
    "version": 3
   },
   "file_extension": ".py",
   "mimetype": "text/x-python",
   "name": "python",
   "nbconvert_exporter": "python",
   "pygments_lexer": "ipython3",
   "version": "3.9.7"
  }
 },
 "nbformat": 4,
 "nbformat_minor": 5
}
