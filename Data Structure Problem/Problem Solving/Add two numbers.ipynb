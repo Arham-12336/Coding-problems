{
 "cells": [
  {
   "cell_type": "markdown",
   "id": "4548a6b8",
   "metadata": {},
   "source": [
    "# Sum of two numbers"
   ]
  },
  {
   "cell_type": "code",
   "execution_count": 1,
   "id": "302fcb2a",
   "metadata": {},
   "outputs": [],
   "source": [
    "def add_two(a,b):\n",
    "    return a+b"
   ]
  },
  {
   "cell_type": "code",
   "execution_count": 2,
   "id": "dcaadc8d",
   "metadata": {},
   "outputs": [
    {
     "data": {
      "text/plain": [
       "6"
      ]
     },
     "execution_count": 2,
     "metadata": {},
     "output_type": "execute_result"
    }
   ],
   "source": [
    "add_two(1,5)"
   ]
  },
  {
   "cell_type": "code",
   "execution_count": null,
   "id": "def0f28e",
   "metadata": {},
   "outputs": [],
   "source": []
  }
 ],
 "metadata": {
  "kernelspec": {
   "display_name": "Python 3 (ipykernel)",
   "language": "python",
   "name": "python3"
  },
  "language_info": {
   "codemirror_mode": {
    "name": "ipython",
    "version": 3
   },
   "file_extension": ".py",
   "mimetype": "text/x-python",
   "name": "python",
   "nbconvert_exporter": "python",
   "pygments_lexer": "ipython3",
   "version": "3.9.7"
  }
 },
 "nbformat": 4,
 "nbformat_minor": 5
}
