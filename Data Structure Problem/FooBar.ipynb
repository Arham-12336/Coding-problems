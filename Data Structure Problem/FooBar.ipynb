{
 "cells": [
  {
   "cell_type": "markdown",
   "id": "5075c466",
   "metadata": {},
   "source": [
    "# Even/odd"
   ]
  },
  {
   "cell_type": "markdown",
   "id": "42f2e15a",
   "metadata": {},
   "source": [
    "Check if the number is even print (foo) and if the number is odd print (bar)\n"
   ]
  },
  {
   "cell_type": "code",
   "execution_count": 15,
   "id": "7c38c76e",
   "metadata": {},
   "outputs": [],
   "source": [
    "def even_odd(number):\n",
    "    if number %2 ==0:\n",
    "        print (\"foo\")  #Even numbers\n",
    "    else:\n",
    "        print (\"Bar\") # Odd numbers"
   ]
  },
  {
   "cell_type": "code",
   "execution_count": 16,
   "id": "e9555bdc",
   "metadata": {},
   "outputs": [
    {
     "name": "stdout",
     "output_type": "stream",
     "text": [
      "Bar\n"
     ]
    }
   ],
   "source": [
    "even_odd(7)"
   ]
  },
  {
   "cell_type": "markdown",
   "id": "cfc65967",
   "metadata": {},
   "source": [
    "# FOO/BAR"
   ]
  },
  {
   "cell_type": "markdown",
   "id": "44f163a1",
   "metadata": {},
   "source": [
    "Print foo if the number is divisible by 3, bar if the number is divisible by 5 and foobar if both"
   ]
  },
  {
   "cell_type": "code",
   "execution_count": 22,
   "id": "7544c4ff",
   "metadata": {},
   "outputs": [],
   "source": [
    "def Foo_Baar():\n",
    "    for number in range(1,21):\n",
    "        if number %3 ==0 and number %5 ==0:\n",
    "            print (\"FooBar\")\n",
    "        elif number %3 ==0:\n",
    "             print(\"Foo\")\n",
    "        elif number %5 ==0:    \n",
    "             print(\"Bar\")"
   ]
  },
  {
   "cell_type": "code",
   "execution_count": 23,
   "id": "2dfafed5",
   "metadata": {},
   "outputs": [
    {
     "name": "stdout",
     "output_type": "stream",
     "text": [
      "Foo\n",
      "Bar\n",
      "Foo\n",
      "Foo\n",
      "Bar\n",
      "Foo\n",
      "FooBar\n",
      "Foo\n",
      "Bar\n"
     ]
    }
   ],
   "source": [
    "Foo_Baar()\n"
   ]
  },
  {
   "cell_type": "code",
   "execution_count": null,
   "id": "701fe466",
   "metadata": {},
   "outputs": [],
   "source": []
  }
 ],
 "metadata": {
  "kernelspec": {
   "display_name": "Python 3 (ipykernel)",
   "language": "python",
   "name": "python3"
  },
  "language_info": {
   "codemirror_mode": {
    "name": "ipython",
    "version": 3
   },
   "file_extension": ".py",
   "mimetype": "text/x-python",
   "name": "python",
   "nbconvert_exporter": "python",
   "pygments_lexer": "ipython3",
   "version": "3.9.7"
  }
 },
 "nbformat": 4,
 "nbformat_minor": 5
}
