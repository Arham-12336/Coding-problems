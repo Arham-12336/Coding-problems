{
 "cells": [
  {
   "cell_type": "markdown",
   "id": "35881104",
   "metadata": {},
   "source": [
    "# Array"
   ]
  },
  {
   "cell_type": "markdown",
   "id": "cd6f6ba2",
   "metadata": {},
   "source": [
    "Find the max number in the array[1,9,2,4,7,6]"
   ]
  },
  {
   "cell_type": "code",
   "execution_count": 10,
   "id": "e67bcff7",
   "metadata": {},
   "outputs": [
    {
     "name": "stdout",
     "output_type": "stream",
     "text": [
      "Maximum in given array 9\n"
     ]
    }
   ],
   "source": [
    "def max(arr, n):\n",
    "    max = arr[0] \n",
    "    for i in range(1, n):\n",
    "        if arr[i] > max:\n",
    "            max = arr[i]\n",
    "    return max\n",
    "# Driver code\n",
    "arr = [1,9,2,4,7,6]\n",
    "n = len(arr)\n",
    "Ans = max(arr, n)\n",
    "print(\"Maximum in given array\" , Ans)"
   ]
  },
  {
   "cell_type": "code",
   "execution_count": 25,
   "id": "b696106d",
   "metadata": {},
   "outputs": [
    {
     "name": "stdout",
     "output_type": "stream",
     "text": [
      "Minimum in given array 1\n"
     ]
    }
   ],
   "source": [
    "def min(arr, n):\n",
    "    min = arr[0] \n",
    "    for i in range(1, n):\n",
    "        if arr[i] < min:\n",
    "            min = arr[i]\n",
    "    return min\n",
    "# Driver code\n",
    "arr = [1,9,2,4,7,6]\n",
    "n = len(arr)\n",
    "Ans = min(arr, n)\n",
    "print(\"Minimum in given array\" , Ans)"
   ]
  },
  {
   "cell_type": "code",
   "execution_count": 19,
   "id": "e073b48f",
   "metadata": {},
   "outputs": [
    {
     "name": "stdout",
     "output_type": "stream",
     "text": [
      "Maximum value: 9\n"
     ]
    }
   ],
   "source": [
    "def find_maximum_value(numbers):\n",
    "    # Sort the list in ascending order\n",
    "    numbers.sort()\n",
    "\n",
    "    # The maximum value is the last element in the sorted list\n",
    "    maximum_value = numbers[-1]\n",
    "    \n",
    "    return maximum_value\n",
    "\n",
    "# Driver code\n",
    "numbers = [1,9,2,4,7,6]\n",
    "maximum = find_maximum_value(numbers)\n",
    "print(\"Maximum value:\", maximum)"
   ]
  },
  {
   "cell_type": "code",
   "execution_count": 27,
   "id": "b62d1a58",
   "metadata": {},
   "outputs": [
    {
     "name": "stdout",
     "output_type": "stream",
     "text": [
      "Minimum value: 1\n"
     ]
    }
   ],
   "source": [
    "def find_minimum_value(numbers):\n",
    "    #sort the list in ascending orer\n",
    "    numbers.sort()\n",
    "    \n",
    "    #the minimum value is the first element in the sorted list \n",
    "    minimum_value = numbers[0]\n",
    "    \n",
    "    return minimum_value\n",
    "\n",
    "#Driver code\n",
    "numbers = [1,9,2,4,7,6]\n",
    "minimum = find_minimum_value(numbers)\n",
    "print(\"Minimum value:\", minimum)"
   ]
  },
  {
   "cell_type": "code",
   "execution_count": null,
   "id": "fba082a2",
   "metadata": {},
   "outputs": [],
   "source": []
  }
 ],
 "metadata": {
  "kernelspec": {
   "display_name": "Python 3 (ipykernel)",
   "language": "python",
   "name": "python3"
  },
  "language_info": {
   "codemirror_mode": {
    "name": "ipython",
    "version": 3
   },
   "file_extension": ".py",
   "mimetype": "text/x-python",
   "name": "python",
   "nbconvert_exporter": "python",
   "pygments_lexer": "ipython3",
   "version": "3.9.7"
  }
 },
 "nbformat": 4,
 "nbformat_minor": 5
}
